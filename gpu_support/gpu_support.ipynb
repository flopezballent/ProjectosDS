{
 "cells": [
  {
   "cell_type": "markdown",
   "metadata": {
    "id": "OJa5Gqi0BUmG"
   },
   "source": [
    "# **PROYECTO FINAL  - DATA SCIENCE - CODERHOUSE**\n",
    " PRIMER ENTREGA\n",
    "\n"
   ]
  },
  {
   "cell_type": "markdown",
   "metadata": {
    "id": "OJa5Gqi0BUmG"
   },
   "source": [
    "# **PROYECTO FINAL  - DATA SCIENCE - CODERHOUSE**\n",
    " PRIMER ENTREGA\n",
    "\n"
   ]
  },
  {
   "cell_type": "markdown",
   "metadata": {
    "id": "7qyfe1QScKb5"
   },
   "source": [
    "\n",
    "## **Objetivos de la Invetigacion:** \n",
    "**Objetivo principal:** Analisis de Sentimiento sobre Reviews de Videojuegos con aplicación simple de NLP.\n",
    "\n",
    "**Objetivo secundario**: Analisis exploratorio de las variables secundarias para conocer su relacion con respecto a la variable target.\n"
   ]
  },
  {
   "cell_type": "markdown",
   "metadata": {
    "id": "6cCyZF8scOM1"
   },
   "source": [
    "\n",
    "**Conformacion del equipo de trabajo:**\n",
    "*   Gerardo Heidel<br>\n",
    "*   Francisco Lopez Ballent<br>\n",
    "*   Ignacio Manuel Vallecillo<br>"
   ]
  },
  {
   "cell_type": "markdown",
   "metadata": {
    "id": "4EFJyOZMRIKs"
   },
   "source": [
    "# **Data Adquisition**"
   ]
  },
  {
   "cell_type": "markdown",
   "metadata": {
    "id": "52u8b30vRTox"
   },
   "source": [
    "**Informacion del Dataset:**\n",
    "\n",
    "  Seleccionamos dos dataset con la siguientes caracteristicas:\n",
    "1.   Steam Reviews\n",
    "\n",
    "\n",
    "*   **Contenido Original:** 6.4 Millones de Reviews en Ingles de diferentes juegos publicados en la plataforma Steam de Valve.\n",
    "\n",
    "*   **Fuente:** Kaggle\n",
    "\n",
    "*  **URL:** https://www.kaggle.com/datasets/andrewmvd/steam-reviews\n",
    "\n",
    "\n",
    "2.   Steam Store Games\n",
    "*   **Contenido Original:** Data combinada de mas de 27.000 juegos scrapeados de la plataforma Steam y de SteamSpy APIs.\n",
    "\n",
    "*   **Fuente:** Kaggle\n",
    "\n",
    "*  **URL:** https://www.kaggle.com/datasets/nikdavis/steam-store-games"
   ]
  },
  {
   "cell_type": "markdown",
   "metadata": {
    "id": "Qw2F_QS4cb1C"
   },
   "source": [
    "## Aclaraciones sobre la conformacion del Dataset"
   ]
  },
  {
   "cell_type": "markdown",
   "metadata": {
    "id": "v1v3uE-XciqZ"
   },
   "source": [
    "Debido a la inmensidad del Dataset Orignal de las Steam Reviews, se decidio tomar un 3,125% del mismo (Cuyo contenido se obtuvo de forma aleatoria) como dataset a utilizar para la investigacion. Al mismo, decidimos integrarle informacion adicional de cada uno de los juegos al que pertenecen las reviews. Para ello, mergeamos la información del dataset Steam Store Games que creemos pertinente para la investigacion."
   ]
  },
  {
   "cell_type": "markdown",
   "metadata": {
    "id": "qh3SYb8ECTN-"
   },
   "source": [
    "## Importacion de librerias y lectura de Dataset"
   ]
  },
  {
   "cell_type": "code",
   "execution_count": 1,
   "metadata": {
    "colab": {
     "base_uri": "https://localhost:8080/"
    },
    "executionInfo": {
     "elapsed": 25786,
     "status": "ok",
     "timestamp": 1661009140946,
     "user": {
      "displayName": "Francisco Lopez Ballent",
      "userId": "04366113776935231164"
     },
     "user_tz": 180
    },
    "id": "YZa8myzEg7bV",
    "outputId": "76e4de49-d996-4354-fdb0-7a7d904687d4"
   },
   "outputs": [],
   "source": [
    "# from google.colab import drive\n",
    "# drive.mount('/content/drive')"
   ]
  },
  {
   "cell_type": "code",
   "execution_count": 2,
   "metadata": {
    "executionInfo": {
     "elapsed": 10448,
     "status": "ok",
     "timestamp": 1661009151391,
     "user": {
      "displayName": "Francisco Lopez Ballent",
      "userId": "04366113776935231164"
     },
     "user_tz": 180
    },
    "id": "jUuSG3BIze2T"
   },
   "outputs": [],
   "source": [
    "#Generales\n",
    "import pandas as pd\n",
    "import numpy as np\n",
    "import re\n",
    "import random\n",
    "#Visualizacion\n",
    "import cudf, cupy\n",
    "import seaborn as sns\n",
    "import matplotlib as mpl\n",
    "import matplotlib.pyplot as plt\n",
    "import plotly.express as px\n",
    "#Machine Learning\n",
    "from nltk.stem import SnowballStemmer\n",
    "from wordcloud import WordCloud\n",
    "from sklearn.feature_extraction.text import TfidfVectorizer, CountVectorizer, ENGLISH_STOP_WORDS\n",
    "import spacy\n",
    "#Otros\n",
    "import warnings\n",
    "warnings.filterwarnings('ignore')"
   ]
  },
  {
   "cell_type": "markdown",
   "metadata": {
    "id": "z8TsGfXw2uDH"
   },
   "source": [
    "Cambio de estilo de graficas"
   ]
  },
  {
   "cell_type": "code",
   "execution_count": 3,
   "metadata": {
    "executionInfo": {
     "elapsed": 15,
     "status": "ok",
     "timestamp": 1661009151392,
     "user": {
      "displayName": "Francisco Lopez Ballent",
      "userId": "04366113776935231164"
     },
     "user_tz": 180
    },
    "id": "f536Y6XniXPx"
   },
   "outputs": [],
   "source": [
    "mpl.style.use('dark_background')\n",
    "mpl.rcParams.update({'font.size': 12})"
   ]
  },
  {
   "cell_type": "code",
   "execution_count": 4,
   "metadata": {
    "colab": {
     "base_uri": "https://localhost:8080/",
     "height": 600
    },
    "executionInfo": {
     "elapsed": 1065,
     "status": "ok",
     "timestamp": 1661009152443,
     "user": {
      "displayName": "Francisco Lopez Ballent",
      "userId": "04366113776935231164"
     },
     "user_tz": 180
    },
    "id": "Q_hLgwGKfFBd",
    "outputId": "3290062a-8744-4d96-a3ed-f23fb8c0d874"
   },
   "outputs": [
    {
     "data": {
      "text/html": [
       "<div>\n",
       "<style scoped>\n",
       "    .dataframe tbody tr th:only-of-type {\n",
       "        vertical-align: middle;\n",
       "    }\n",
       "\n",
       "    .dataframe tbody tr th {\n",
       "        vertical-align: top;\n",
       "    }\n",
       "\n",
       "    .dataframe thead th {\n",
       "        text-align: right;\n",
       "    }\n",
       "</style>\n",
       "<table border=\"1\" class=\"dataframe\">\n",
       "  <thead>\n",
       "    <tr style=\"text-align: right;\">\n",
       "      <th></th>\n",
       "      <th>appid</th>\n",
       "      <th>name</th>\n",
       "      <th>release_date</th>\n",
       "      <th>english</th>\n",
       "      <th>developer</th>\n",
       "      <th>publisher</th>\n",
       "      <th>platforms</th>\n",
       "      <th>required_age</th>\n",
       "      <th>categories</th>\n",
       "      <th>genres</th>\n",
       "      <th>steamspy_tags</th>\n",
       "      <th>achievements</th>\n",
       "      <th>positive_ratings</th>\n",
       "      <th>negative_ratings</th>\n",
       "      <th>average_playtime</th>\n",
       "      <th>median_playtime</th>\n",
       "      <th>owners</th>\n",
       "      <th>price</th>\n",
       "    </tr>\n",
       "  </thead>\n",
       "  <tbody>\n",
       "    <tr>\n",
       "      <th>0</th>\n",
       "      <td>10</td>\n",
       "      <td>Counter-Strike</td>\n",
       "      <td>2000-11-01</td>\n",
       "      <td>1</td>\n",
       "      <td>Valve</td>\n",
       "      <td>Valve</td>\n",
       "      <td>windows;mac;linux</td>\n",
       "      <td>0</td>\n",
       "      <td>Multi-player;Online Multi-Player;Local Multi-P...</td>\n",
       "      <td>Action</td>\n",
       "      <td>Action;FPS;Multiplayer</td>\n",
       "      <td>0</td>\n",
       "      <td>124534</td>\n",
       "      <td>3339</td>\n",
       "      <td>17612</td>\n",
       "      <td>317</td>\n",
       "      <td>10000000-20000000</td>\n",
       "      <td>7.19</td>\n",
       "    </tr>\n",
       "    <tr>\n",
       "      <th>1</th>\n",
       "      <td>20</td>\n",
       "      <td>Team Fortress Classic</td>\n",
       "      <td>1999-04-01</td>\n",
       "      <td>1</td>\n",
       "      <td>Valve</td>\n",
       "      <td>Valve</td>\n",
       "      <td>windows;mac;linux</td>\n",
       "      <td>0</td>\n",
       "      <td>Multi-player;Online Multi-Player;Local Multi-P...</td>\n",
       "      <td>Action</td>\n",
       "      <td>Action;FPS;Multiplayer</td>\n",
       "      <td>0</td>\n",
       "      <td>3318</td>\n",
       "      <td>633</td>\n",
       "      <td>277</td>\n",
       "      <td>62</td>\n",
       "      <td>5000000-10000000</td>\n",
       "      <td>3.99</td>\n",
       "    </tr>\n",
       "    <tr>\n",
       "      <th>2</th>\n",
       "      <td>30</td>\n",
       "      <td>Day of Defeat</td>\n",
       "      <td>2003-05-01</td>\n",
       "      <td>1</td>\n",
       "      <td>Valve</td>\n",
       "      <td>Valve</td>\n",
       "      <td>windows;mac;linux</td>\n",
       "      <td>0</td>\n",
       "      <td>Multi-player;Valve Anti-Cheat enabled</td>\n",
       "      <td>Action</td>\n",
       "      <td>FPS;World War II;Multiplayer</td>\n",
       "      <td>0</td>\n",
       "      <td>3416</td>\n",
       "      <td>398</td>\n",
       "      <td>187</td>\n",
       "      <td>34</td>\n",
       "      <td>5000000-10000000</td>\n",
       "      <td>3.99</td>\n",
       "    </tr>\n",
       "    <tr>\n",
       "      <th>3</th>\n",
       "      <td>40</td>\n",
       "      <td>Deathmatch Classic</td>\n",
       "      <td>2001-06-01</td>\n",
       "      <td>1</td>\n",
       "      <td>Valve</td>\n",
       "      <td>Valve</td>\n",
       "      <td>windows;mac;linux</td>\n",
       "      <td>0</td>\n",
       "      <td>Multi-player;Online Multi-Player;Local Multi-P...</td>\n",
       "      <td>Action</td>\n",
       "      <td>Action;FPS;Multiplayer</td>\n",
       "      <td>0</td>\n",
       "      <td>1273</td>\n",
       "      <td>267</td>\n",
       "      <td>258</td>\n",
       "      <td>184</td>\n",
       "      <td>5000000-10000000</td>\n",
       "      <td>3.99</td>\n",
       "    </tr>\n",
       "    <tr>\n",
       "      <th>4</th>\n",
       "      <td>50</td>\n",
       "      <td>Half-Life: Opposing Force</td>\n",
       "      <td>1999-11-01</td>\n",
       "      <td>1</td>\n",
       "      <td>Gearbox Software</td>\n",
       "      <td>Valve</td>\n",
       "      <td>windows;mac;linux</td>\n",
       "      <td>0</td>\n",
       "      <td>Single-player;Multi-player;Valve Anti-Cheat en...</td>\n",
       "      <td>Action</td>\n",
       "      <td>FPS;Action;Sci-fi</td>\n",
       "      <td>0</td>\n",
       "      <td>5250</td>\n",
       "      <td>288</td>\n",
       "      <td>624</td>\n",
       "      <td>415</td>\n",
       "      <td>5000000-10000000</td>\n",
       "      <td>3.99</td>\n",
       "    </tr>\n",
       "  </tbody>\n",
       "</table>\n",
       "</div>"
      ],
      "text/plain": [
       "   appid                       name release_date  english         developer  \\\n",
       "0     10             Counter-Strike   2000-11-01        1             Valve   \n",
       "1     20      Team Fortress Classic   1999-04-01        1             Valve   \n",
       "2     30              Day of Defeat   2003-05-01        1             Valve   \n",
       "3     40         Deathmatch Classic   2001-06-01        1             Valve   \n",
       "4     50  Half-Life: Opposing Force   1999-11-01        1  Gearbox Software   \n",
       "\n",
       "  publisher          platforms  required_age  \\\n",
       "0     Valve  windows;mac;linux             0   \n",
       "1     Valve  windows;mac;linux             0   \n",
       "2     Valve  windows;mac;linux             0   \n",
       "3     Valve  windows;mac;linux             0   \n",
       "4     Valve  windows;mac;linux             0   \n",
       "\n",
       "                                          categories  genres  \\\n",
       "0  Multi-player;Online Multi-Player;Local Multi-P...  Action   \n",
       "1  Multi-player;Online Multi-Player;Local Multi-P...  Action   \n",
       "2              Multi-player;Valve Anti-Cheat enabled  Action   \n",
       "3  Multi-player;Online Multi-Player;Local Multi-P...  Action   \n",
       "4  Single-player;Multi-player;Valve Anti-Cheat en...  Action   \n",
       "\n",
       "                  steamspy_tags  achievements  positive_ratings  \\\n",
       "0        Action;FPS;Multiplayer             0            124534   \n",
       "1        Action;FPS;Multiplayer             0              3318   \n",
       "2  FPS;World War II;Multiplayer             0              3416   \n",
       "3        Action;FPS;Multiplayer             0              1273   \n",
       "4             FPS;Action;Sci-fi             0              5250   \n",
       "\n",
       "   negative_ratings  average_playtime  median_playtime             owners  \\\n",
       "0              3339             17612              317  10000000-20000000   \n",
       "1               633               277               62   5000000-10000000   \n",
       "2               398               187               34   5000000-10000000   \n",
       "3               267               258              184   5000000-10000000   \n",
       "4               288               624              415   5000000-10000000   \n",
       "\n",
       "   price  \n",
       "0   7.19  \n",
       "1   3.99  \n",
       "2   3.99  \n",
       "3   3.99  \n",
       "4   3.99  "
      ]
     },
     "execution_count": 4,
     "metadata": {},
     "output_type": "execute_result"
    }
   ],
   "source": [
    "df_data_steam = cudf.read_csv('steam.csv')\n",
    "df_data_steam.head()"
   ]
  },
  {
   "cell_type": "code",
   "execution_count": 5,
   "metadata": {
    "colab": {
     "base_uri": "https://localhost:8080/",
     "height": 206
    },
    "executionInfo": {
     "elapsed": 44631,
     "status": "ok",
     "timestamp": 1661009197069,
     "user": {
      "displayName": "Francisco Lopez Ballent",
      "userId": "04366113776935231164"
     },
     "user_tz": 180
    },
    "id": "sZ9rHaGfzitS",
    "outputId": "c23d26cc-8bc5-4c3b-960f-6274c163f502"
   },
   "outputs": [
    {
     "data": {
      "text/html": [
       "<div>\n",
       "<style scoped>\n",
       "    .dataframe tbody tr th:only-of-type {\n",
       "        vertical-align: middle;\n",
       "    }\n",
       "\n",
       "    .dataframe tbody tr th {\n",
       "        vertical-align: top;\n",
       "    }\n",
       "\n",
       "    .dataframe thead th {\n",
       "        text-align: right;\n",
       "    }\n",
       "</style>\n",
       "<table border=\"1\" class=\"dataframe\">\n",
       "  <thead>\n",
       "    <tr style=\"text-align: right;\">\n",
       "      <th></th>\n",
       "      <th>app_id</th>\n",
       "      <th>app_name</th>\n",
       "      <th>review_text</th>\n",
       "      <th>review_score</th>\n",
       "      <th>review_votes</th>\n",
       "    </tr>\n",
       "  </thead>\n",
       "  <tbody>\n",
       "    <tr>\n",
       "      <th>0</th>\n",
       "      <td>10</td>\n",
       "      <td>Counter-Strike</td>\n",
       "      <td>Ruined my life.</td>\n",
       "      <td>1</td>\n",
       "      <td>0</td>\n",
       "    </tr>\n",
       "    <tr>\n",
       "      <th>1</th>\n",
       "      <td>10</td>\n",
       "      <td>Counter-Strike</td>\n",
       "      <td>This will be more of a ''my experience with th...</td>\n",
       "      <td>1</td>\n",
       "      <td>1</td>\n",
       "    </tr>\n",
       "    <tr>\n",
       "      <th>2</th>\n",
       "      <td>10</td>\n",
       "      <td>Counter-Strike</td>\n",
       "      <td>This game saved my virginity.</td>\n",
       "      <td>1</td>\n",
       "      <td>0</td>\n",
       "    </tr>\n",
       "    <tr>\n",
       "      <th>3</th>\n",
       "      <td>10</td>\n",
       "      <td>Counter-Strike</td>\n",
       "      <td>• Do you like original games? • Do you like ga...</td>\n",
       "      <td>1</td>\n",
       "      <td>0</td>\n",
       "    </tr>\n",
       "    <tr>\n",
       "      <th>4</th>\n",
       "      <td>10</td>\n",
       "      <td>Counter-Strike</td>\n",
       "      <td>Easy to learn, hard to master.</td>\n",
       "      <td>1</td>\n",
       "      <td>1</td>\n",
       "    </tr>\n",
       "  </tbody>\n",
       "</table>\n",
       "</div>"
      ],
      "text/plain": [
       "   app_id        app_name                                        review_text  \\\n",
       "0      10  Counter-Strike                                    Ruined my life.   \n",
       "1      10  Counter-Strike  This will be more of a ''my experience with th...   \n",
       "2      10  Counter-Strike                      This game saved my virginity.   \n",
       "3      10  Counter-Strike  • Do you like original games? • Do you like ga...   \n",
       "4      10  Counter-Strike           Easy to learn, hard to master.             \n",
       "\n",
       "   review_score  review_votes  \n",
       "0             1             0  \n",
       "1             1             1  \n",
       "2             1             0  \n",
       "3             1             0  \n",
       "4             1             1  "
      ]
     },
     "execution_count": 5,
     "metadata": {},
     "output_type": "execute_result"
    }
   ],
   "source": [
    "# Nacho\n",
    "#df_reviews = pd.read_csv('/content/drive/MyDrive/Coderhouse-DataScience2022/Proyecto_Final_DS/Datasets/reviews_full.csv')\n",
    "# Fran\n",
    "df_reviews = cudf.read_csv('reviews_full.csv')\n",
    "df_reviews.head()"
   ]
  },
  {
   "cell_type": "markdown",
   "metadata": {
    "id": "kzGfac2496wK"
   },
   "source": [
    "Seleccionamos de manera aleatoria 100K reviews positivas y 100K negativas para balancear el dataset"
   ]
  },
  {
   "cell_type": "code",
   "execution_count": 6,
   "metadata": {
    "executionInfo": {
     "elapsed": 1100,
     "status": "ok",
     "timestamp": 1661009198157,
     "user": {
      "displayName": "Francisco Lopez Ballent",
      "userId": "04366113776935231164"
     },
     "user_tz": 180
    },
    "id": "26NrbKHj87nw"
   },
   "outputs": [],
   "source": [
    "df_pos = df_reviews[df_reviews.review_score == 1].sample(100000, random_state=10)\n",
    "df_neg = df_reviews[df_reviews.review_score == -1].sample(100000, random_state=10)\n",
    "df_reviews = cudf.concat([df_pos, df_neg])"
   ]
  },
  {
   "cell_type": "markdown",
   "metadata": {
    "id": "2-fURqYHfo3h"
   },
   "source": [
    "Merge de data de Reviews y data de Games para formar el dataset que vamos a usar"
   ]
  },
  {
   "cell_type": "code",
   "execution_count": 7,
   "metadata": {
    "colab": {
     "base_uri": "https://localhost:8080/",
     "height": 646
    },
    "executionInfo": {
     "elapsed": 22,
     "status": "ok",
     "timestamp": 1661009198159,
     "user": {
      "displayName": "Francisco Lopez Ballent",
      "userId": "04366113776935231164"
     },
     "user_tz": 180
    },
    "id": "LAuULtQofohS",
    "outputId": "8e22627b-95a7-4658-d6aa-17434a3dfeb8"
   },
   "outputs": [
    {
     "data": {
      "text/html": [
       "<div>\n",
       "<style scoped>\n",
       "    .dataframe tbody tr th:only-of-type {\n",
       "        vertical-align: middle;\n",
       "    }\n",
       "\n",
       "    .dataframe tbody tr th {\n",
       "        vertical-align: top;\n",
       "    }\n",
       "\n",
       "    .dataframe thead th {\n",
       "        text-align: right;\n",
       "    }\n",
       "</style>\n",
       "<table border=\"1\" class=\"dataframe\">\n",
       "  <thead>\n",
       "    <tr style=\"text-align: right;\">\n",
       "      <th></th>\n",
       "      <th>app_id</th>\n",
       "      <th>app_name</th>\n",
       "      <th>review_text</th>\n",
       "      <th>review_score</th>\n",
       "      <th>review_votes</th>\n",
       "      <th>name</th>\n",
       "      <th>release_date</th>\n",
       "      <th>english</th>\n",
       "      <th>developer</th>\n",
       "      <th>publisher</th>\n",
       "      <th>...</th>\n",
       "      <th>categories</th>\n",
       "      <th>genres</th>\n",
       "      <th>steamspy_tags</th>\n",
       "      <th>achievements</th>\n",
       "      <th>positive_ratings</th>\n",
       "      <th>negative_ratings</th>\n",
       "      <th>average_playtime</th>\n",
       "      <th>median_playtime</th>\n",
       "      <th>owners</th>\n",
       "      <th>price</th>\n",
       "    </tr>\n",
       "  </thead>\n",
       "  <tbody>\n",
       "    <tr>\n",
       "      <th>0</th>\n",
       "      <td>34030</td>\n",
       "      <td>Total War: NAPOLEON - Definitive Edition</td>\n",
       "      <td>Love this game it is so much fun!</td>\n",
       "      <td>1</td>\n",
       "      <td>0</td>\n",
       "      <td>Total War: NAPOLEON – Definitive Edition</td>\n",
       "      <td>2010-02-25</td>\n",
       "      <td>1</td>\n",
       "      <td>CREATIVE ASSEMBLY;Feral Interactive (Mac)</td>\n",
       "      <td>SEGA;Feral Interactive (Mac)</td>\n",
       "      <td>...</td>\n",
       "      <td>Single-player;Multi-player;Steam Achievements;...</td>\n",
       "      <td>Strategy</td>\n",
       "      <td>Strategy;Historical;Grand Strategy</td>\n",
       "      <td>71</td>\n",
       "      <td>8540</td>\n",
       "      <td>907</td>\n",
       "      <td>1251</td>\n",
       "      <td>1534</td>\n",
       "      <td>2000000-5000000</td>\n",
       "      <td>0.00</td>\n",
       "    </tr>\n",
       "    <tr>\n",
       "      <th>1</th>\n",
       "      <td>220240</td>\n",
       "      <td>Far Cry® 3</td>\n",
       "      <td>Excellent game in many regards, and I haven't ...</td>\n",
       "      <td>1</td>\n",
       "      <td>0</td>\n",
       "      <td>Far Cry 3</td>\n",
       "      <td>2012-11-28</td>\n",
       "      <td>1</td>\n",
       "      <td>Ubisoft Montreal, Massive Entertainment, and U...</td>\n",
       "      <td>Ubisoft</td>\n",
       "      <td>...</td>\n",
       "      <td>Single-player;Multi-player;Co-op;Partial Contr...</td>\n",
       "      <td>Action;Adventure</td>\n",
       "      <td>Open World;FPS;Action</td>\n",
       "      <td>0</td>\n",
       "      <td>46331</td>\n",
       "      <td>5622</td>\n",
       "      <td>836</td>\n",
       "      <td>794</td>\n",
       "      <td>2000000-5000000</td>\n",
       "      <td>16.99</td>\n",
       "    </tr>\n",
       "    <tr>\n",
       "      <th>2</th>\n",
       "      <td>4720</td>\n",
       "      <td>Condemned: Criminal Origins</td>\n",
       "      <td>Had high expectations, it's well regarded by m...</td>\n",
       "      <td>1</td>\n",
       "      <td>0</td>\n",
       "      <td>Condemned: Criminal Origins</td>\n",
       "      <td>2012-10-29</td>\n",
       "      <td>1</td>\n",
       "      <td>Monolith</td>\n",
       "      <td>SEGA</td>\n",
       "      <td>...</td>\n",
       "      <td>Single-player</td>\n",
       "      <td>Action</td>\n",
       "      <td>Horror;Action;Atmospheric</td>\n",
       "      <td>0</td>\n",
       "      <td>1243</td>\n",
       "      <td>221</td>\n",
       "      <td>312</td>\n",
       "      <td>312</td>\n",
       "      <td>200000-500000</td>\n",
       "      <td>9.99</td>\n",
       "    </tr>\n",
       "    <tr>\n",
       "      <th>3</th>\n",
       "      <td>8190</td>\n",
       "      <td>Just Cause 2</td>\n",
       "      <td>Awesome game! You can spend so many hours just...</td>\n",
       "      <td>1</td>\n",
       "      <td>0</td>\n",
       "      <td>Just Cause 2</td>\n",
       "      <td>2010-03-23</td>\n",
       "      <td>1</td>\n",
       "      <td>Avalanche Studios</td>\n",
       "      <td>Square Enix</td>\n",
       "      <td>...</td>\n",
       "      <td>Single-player;Steam Achievements;Full controll...</td>\n",
       "      <td>Action;Adventure</td>\n",
       "      <td>Open World;Action;Sandbox</td>\n",
       "      <td>50</td>\n",
       "      <td>33636</td>\n",
       "      <td>3231</td>\n",
       "      <td>519</td>\n",
       "      <td>272</td>\n",
       "      <td>2000000-5000000</td>\n",
       "      <td>9.99</td>\n",
       "    </tr>\n",
       "    <tr>\n",
       "      <th>4</th>\n",
       "      <td>403190</td>\n",
       "      <td>Planetbase</td>\n",
       "      <td>I do like this game, but it can be really frus...</td>\n",
       "      <td>1</td>\n",
       "      <td>0</td>\n",
       "      <td>Planetbase</td>\n",
       "      <td>2015-10-15</td>\n",
       "      <td>1</td>\n",
       "      <td>Madruga Works</td>\n",
       "      <td>Madruga Works</td>\n",
       "      <td>...</td>\n",
       "      <td>Single-player;Steam Achievements;Steam Trading...</td>\n",
       "      <td>Indie;Simulation;Strategy</td>\n",
       "      <td>City Builder;Base-Building;Space</td>\n",
       "      <td>30</td>\n",
       "      <td>4171</td>\n",
       "      <td>1267</td>\n",
       "      <td>1069</td>\n",
       "      <td>1346</td>\n",
       "      <td>200000-500000</td>\n",
       "      <td>15.49</td>\n",
       "    </tr>\n",
       "  </tbody>\n",
       "</table>\n",
       "<p>5 rows × 22 columns</p>\n",
       "</div>"
      ],
      "text/plain": [
       "   app_id                                  app_name  \\\n",
       "0   34030  Total War: NAPOLEON - Definitive Edition   \n",
       "1  220240                                Far Cry® 3   \n",
       "2    4720               Condemned: Criminal Origins   \n",
       "3    8190                              Just Cause 2   \n",
       "4  403190                                Planetbase   \n",
       "\n",
       "                                         review_text  review_score  \\\n",
       "0                  Love this game it is so much fun!             1   \n",
       "1  Excellent game in many regards, and I haven't ...             1   \n",
       "2  Had high expectations, it's well regarded by m...             1   \n",
       "3  Awesome game! You can spend so many hours just...             1   \n",
       "4  I do like this game, but it can be really frus...             1   \n",
       "\n",
       "   review_votes                                      name release_date  \\\n",
       "0             0  Total War: NAPOLEON – Definitive Edition   2010-02-25   \n",
       "1             0                                 Far Cry 3   2012-11-28   \n",
       "2             0               Condemned: Criminal Origins   2012-10-29   \n",
       "3             0                              Just Cause 2   2010-03-23   \n",
       "4             0                                Planetbase   2015-10-15   \n",
       "\n",
       "   english                                          developer  \\\n",
       "0        1          CREATIVE ASSEMBLY;Feral Interactive (Mac)   \n",
       "1        1  Ubisoft Montreal, Massive Entertainment, and U...   \n",
       "2        1                                           Monolith   \n",
       "3        1                                  Avalanche Studios   \n",
       "4        1                                      Madruga Works   \n",
       "\n",
       "                      publisher  ...  \\\n",
       "0  SEGA;Feral Interactive (Mac)  ...   \n",
       "1                       Ubisoft  ...   \n",
       "2                          SEGA  ...   \n",
       "3                   Square Enix  ...   \n",
       "4                 Madruga Works  ...   \n",
       "\n",
       "                                          categories  \\\n",
       "0  Single-player;Multi-player;Steam Achievements;...   \n",
       "1  Single-player;Multi-player;Co-op;Partial Contr...   \n",
       "2                                      Single-player   \n",
       "3  Single-player;Steam Achievements;Full controll...   \n",
       "4  Single-player;Steam Achievements;Steam Trading...   \n",
       "\n",
       "                      genres                       steamspy_tags achievements  \\\n",
       "0                   Strategy  Strategy;Historical;Grand Strategy           71   \n",
       "1           Action;Adventure               Open World;FPS;Action            0   \n",
       "2                     Action           Horror;Action;Atmospheric            0   \n",
       "3           Action;Adventure           Open World;Action;Sandbox           50   \n",
       "4  Indie;Simulation;Strategy    City Builder;Base-Building;Space           30   \n",
       "\n",
       "   positive_ratings  negative_ratings  average_playtime  median_playtime  \\\n",
       "0              8540               907              1251             1534   \n",
       "1             46331              5622               836              794   \n",
       "2              1243               221               312              312   \n",
       "3             33636              3231               519              272   \n",
       "4              4171              1267              1069             1346   \n",
       "\n",
       "            owners  price  \n",
       "0  2000000-5000000   0.00  \n",
       "1  2000000-5000000  16.99  \n",
       "2    200000-500000   9.99  \n",
       "3  2000000-5000000   9.99  \n",
       "4    200000-500000  15.49  \n",
       "\n",
       "[5 rows x 22 columns]"
      ]
     },
     "execution_count": 7,
     "metadata": {},
     "output_type": "execute_result"
    }
   ],
   "source": [
    "df = df_reviews.merge(right=df_data_steam.rename(columns={'appid':'app_id'}), how='inner',on='app_id')\n",
    "df.head()"
   ]
  },
  {
   "cell_type": "markdown",
   "metadata": {
    "id": "skRtURgGenPX"
   },
   "source": [
    "## Descripcion del dataset"
   ]
  },
  {
   "cell_type": "markdown",
   "metadata": {
    "id": "vVRe4KlV9nHt"
   },
   "source": [
    "**Diccionario de Parámetros**\n",
    "\n",
    "*   **app_id:** ID unico para cada titulo.\n",
    "*   **app_name:** Nombre del juego.\n",
    "*   **review_text:** Contenido de la review.\n",
    "*  **review_score:** Valoracion de la review (1 -> Positiva / 0 -> Negativa).\n",
    "*  **review_votes:** Valoracion de otros usuarios a la review (1 -> Tiene valoraciones positivas / 0 -> No tiene valoraciones positivas).\n",
    "* **release_date:** Formato Año-Mes-Dia.\n",
    "* **english:** Si el idioma es Ingles o no / 1 = True, 0 = False .\n",
    "* **developer:** Empresa o persona que desarrollo  el juego.\n",
    "* **publisher:** Nombre o nombres de los Publicantes. Se usa un (;) para delimitar si son multiples.\n",
    "* **platforms:** Lista de Sist Op soportados delimitada por (;)\n",
    "* **required_age:** Mínimo de edad requerida segun PEGI UK standards. Figura (0) para aquellos no clasificados o no suministrados. \n",
    "* **categories:** Lista de categorias de juegos delimitada por (;)\n",
    "* **genres:** Lista de géneros de juegos delimitada por (;)\n",
    "* **steamspy_tags:** Lista de los top steamspy game tags, que son similares a los generos pero votados por la comunidad gamer.\n",
    "* **achievements:** Número de logros in-game sí hay.\n",
    "* **positive_ratings:** Cantidad de valoraciones positivas del juego segun SteamSpy.\n",
    "* **negative_ratings:** Cantidad de valoraciones negativas del juego segun SteamSpy.\n",
    "* **average_playtime:** Promedio de tiempo de juego segun SteamSpy.\n",
    "* **median_playtime:** Mediana de tiempo de juego segun SteamSpy.\n",
    "* **owners:** Rango estimado de propietarios del juego. Contiene el limite Inferior y Superior.\n",
    "* **price:** Precio actualizado del juego en GBP (Libras Esterlinas)\n",
    "\n",
    "\n",
    "\n",
    "\n"
   ]
  },
  {
   "cell_type": "markdown",
   "metadata": {
    "id": "eEbEXkDo9Vla"
   },
   "source": [
    "Limpieza de columnas que no vamos a usar como **'name'**, ya que hace referencia al nombre del juego que ya esta contemplado en **'app_name'**."
   ]
  },
  {
   "cell_type": "code",
   "execution_count": 8,
   "metadata": {
    "executionInfo": {
     "elapsed": 585,
     "status": "ok",
     "timestamp": 1661009198730,
     "user": {
      "displayName": "Francisco Lopez Ballent",
      "userId": "04366113776935231164"
     },
     "user_tz": 180
    },
    "id": "9Halru0b9Jl2"
   },
   "outputs": [],
   "source": [
    "df = df.drop(columns=['name', 'steamspy_tags', 'achievements', 'english'])"
   ]
  },
  {
   "cell_type": "markdown",
   "metadata": {
    "id": "99ZxK8iYDNjO"
   },
   "source": [
    "Tipo de dato de cada columna"
   ]
  },
  {
   "cell_type": "code",
   "execution_count": 9,
   "metadata": {
    "colab": {
     "base_uri": "https://localhost:8080/"
    },
    "executionInfo": {
     "elapsed": 46,
     "status": "ok",
     "timestamp": 1661009198731,
     "user": {
      "displayName": "Francisco Lopez Ballent",
      "userId": "04366113776935231164"
     },
     "user_tz": 180
    },
    "id": "rZJEDyL_DQKm",
    "outputId": "c345996a-67ba-4ec4-dca6-a4b5a2ff4a6d"
   },
   "outputs": [
    {
     "data": {
      "text/plain": [
       "app_id                int64\n",
       "app_name             object\n",
       "review_text          object\n",
       "review_score          int64\n",
       "review_votes          int64\n",
       "release_date         object\n",
       "developer            object\n",
       "publisher            object\n",
       "platforms            object\n",
       "required_age          int64\n",
       "categories           object\n",
       "genres               object\n",
       "positive_ratings      int64\n",
       "negative_ratings      int64\n",
       "average_playtime      int64\n",
       "median_playtime       int64\n",
       "owners               object\n",
       "price               float64\n",
       "dtype: object"
      ]
     },
     "execution_count": 9,
     "metadata": {},
     "output_type": "execute_result"
    }
   ],
   "source": [
    "df.dtypes"
   ]
  },
  {
   "cell_type": "markdown",
   "metadata": {
    "id": "GLYLREe7c2A0"
   },
   "source": [
    "Shape"
   ]
  },
  {
   "cell_type": "code",
   "execution_count": 10,
   "metadata": {
    "colab": {
     "base_uri": "https://localhost:8080/"
    },
    "executionInfo": {
     "elapsed": 42,
     "status": "ok",
     "timestamp": 1661009198732,
     "user": {
      "displayName": "Francisco Lopez Ballent",
      "userId": "04366113776935231164"
     },
     "user_tz": 180
    },
    "id": "FlUtOTjZc1bk",
    "outputId": "a5fd08da-ec2c-4595-b4fb-81c588e92562"
   },
   "outputs": [
    {
     "name": "stdout",
     "output_type": "stream",
     "text": [
      "El dataset tiene:\n",
      " -> 180080 filas\n",
      " -> 18 columnas\n"
     ]
    }
   ],
   "source": [
    "print(f'El dataset tiene:\\n -> {df.shape[0]} filas\\n -> {df.shape[1]} columnas') "
   ]
  },
  {
   "cell_type": "markdown",
   "metadata": {
    "id": "cN4kZDcbcy-b"
   },
   "source": [
    "Cantidad de juegos"
   ]
  },
  {
   "cell_type": "code",
   "execution_count": 11,
   "metadata": {
    "colab": {
     "base_uri": "https://localhost:8080/"
    },
    "executionInfo": {
     "elapsed": 34,
     "status": "ok",
     "timestamp": 1661009198733,
     "user": {
      "displayName": "Francisco Lopez Ballent",
      "userId": "04366113776935231164"
     },
     "user_tz": 180
    },
    "id": "ffVeodg1crqt",
    "outputId": "a858d126-a6ef-4955-9b99-55407006e46d"
   },
   "outputs": [
    {
     "name": "stdout",
     "output_type": "stream",
     "text": [
      " -> 6410 juegos\n"
     ]
    }
   ],
   "source": [
    "print(f' -> {df.app_name.nunique()} juegos') "
   ]
  },
  {
   "cell_type": "markdown",
   "metadata": {
    "id": "fhjt1j9NdkaE"
   },
   "source": [
    "Cantidad de missing values en porcentaje"
   ]
  },
  {
   "cell_type": "code",
   "execution_count": 12,
   "metadata": {
    "colab": {
     "base_uri": "https://localhost:8080/"
    },
    "executionInfo": {
     "elapsed": 28,
     "status": "ok",
     "timestamp": 1661009198734,
     "user": {
      "displayName": "Francisco Lopez Ballent",
      "userId": "04366113776935231164"
     },
     "user_tz": 180
    },
    "id": "QYxXg5aCdnOz",
    "outputId": "0165fb1d-daa2-42f7-9af8-21485eb47f4b"
   },
   "outputs": [
    {
     "data": {
      "text/plain": [
       "app_id              0.000000\n",
       "app_name            1.479343\n",
       "review_text         0.098845\n",
       "review_score        0.000000\n",
       "review_votes        0.000000\n",
       "release_date        0.000000\n",
       "developer           0.000000\n",
       "publisher           0.000000\n",
       "platforms           0.000000\n",
       "required_age        0.000000\n",
       "categories          0.000000\n",
       "genres              0.000000\n",
       "positive_ratings    0.000000\n",
       "negative_ratings    0.000000\n",
       "average_playtime    0.000000\n",
       "median_playtime     0.000000\n",
       "owners              0.000000\n",
       "price               0.000000\n",
       "dtype: float64"
      ]
     },
     "execution_count": 12,
     "metadata": {},
     "output_type": "execute_result"
    }
   ],
   "source": [
    "df.isna().sum()/df.shape[0]*100"
   ]
  },
  {
   "cell_type": "markdown",
   "metadata": {
    "id": "3thcfh1sCdae"
   },
   "source": [
    "## Preprocesamiento de los Datos"
   ]
  },
  {
   "cell_type": "markdown",
   "metadata": {
    "id": "ImvUtxCESNUj"
   },
   "source": [
    "Eliminamos aquellos valores que tienen missing values en \"review_text\" y chequeamos que el dataset siga balanceado"
   ]
  },
  {
   "cell_type": "code",
   "execution_count": 13,
   "metadata": {
    "colab": {
     "base_uri": "https://localhost:8080/"
    },
    "executionInfo": {
     "elapsed": 22,
     "status": "ok",
     "timestamp": 1661009198735,
     "user": {
      "displayName": "Francisco Lopez Ballent",
      "userId": "04366113776935231164"
     },
     "user_tz": 180
    },
    "id": "pxTY86PXpGfh",
    "outputId": "2353acb8-c869-4358-ef44-b7185125825e"
   },
   "outputs": [
    {
     "name": "stdout",
     "output_type": "stream",
     "text": [
      "Reviews positivas (1) -> 50.999999046325684%\n",
      "Reviews negativas (-1) -> 49.000000953674316%\n"
     ]
    }
   ],
   "source": [
    "df = df.dropna(subset=['review_text'])\n",
    "df_aux = df.review_score.value_counts(normalize=True)\n",
    "print(f'Reviews positivas (1) -> {df_aux.iloc[0].round(2)*100}%\\nReviews negativas (-1) -> {df_aux.iloc[1].round(2)*100}%')"
   ]
  },
  {
   "cell_type": "markdown",
   "metadata": {
    "id": "stEmzeSYjn6-"
   },
   "source": [
    "###Preprocesamiento del texto\n",
    "\n"
   ]
  },
  {
   "cell_type": "markdown",
   "metadata": {
    "id": "9b_bFW-Qks2D"
   },
   "source": [
    "Veamos algunos valores random para saber con que nos encontramos"
   ]
  },
  {
   "cell_type": "code",
   "execution_count": 14,
   "metadata": {
    "colab": {
     "base_uri": "https://localhost:8080/"
    },
    "executionInfo": {
     "elapsed": 20,
     "status": "ok",
     "timestamp": 1661009198737,
     "user": {
      "displayName": "Francisco Lopez Ballent",
      "userId": "04366113776935231164"
     },
     "user_tz": 180
    },
    "id": "PBjTuoSUkzx7",
    "outputId": "0416993a-c8f9-4f15-b65d-e790d80d04fc"
   },
   "outputs": [
    {
     "name": "stdout",
     "output_type": "stream",
     "text": [
      "0 -> this port is ♥♥♥♥\n",
      "\n",
      "1 -> Soccer with cars? That's dumb as f***.  That's what I said and BOY was I wrong. You start off missing every ball and goal and probably scoring an yourself more than the other team. But quickly, and in a very fun way, you git gud and are flying around like you're a pilot. This game is so damn fun, and at worst, you're getting dominated but it only lasts 5 minutes. Get it. You won't regret it.\n",
      "\n",
      "2 -> WTF SERIAL CODE WORKING ONLY ON NATIVE. WHAT THE ♥♥♥♥ IS WRONG WITH YOU FKCING FREAKS\n",
      "\n",
      "3 -> What makes Braid great is that it's different from every other platformer I've played. The game mechanics are fresh, and the art style is awesome. An underrated aspect of the game is the music, which made playing it over and over again to try and unlock the speedrun achievement (and missing it be 30 seconds) more bearable.\n",
      "\n",
      "4 ->  Early Access Review\n",
      "\n",
      "5 -> 20 shots on a hat and they do not die 10/10 IGN 9/10 BEST GAME\n",
      "\n",
      "6 -> gameplay on fleek\n",
      "\n",
      "7 -> I actually liked this game until... I started my first game, So excited!!! So after I joined I tried to play the game. I failed. I tried again. I failed. I tried again. I failed. I have enough gray hair for a year. this game is a stress machine. Are you happy? Play this game. You will die\n",
      "\n",
      "8 ->  Early Access Review\n",
      "\n",
      "9 -> 0 players online, waited 20min\n",
      "\n",
      "10 -> steam can i have a review please im bagon\n",
      "\n",
      "11 ->  Early Access Review\n",
      "\n",
      "12 -> The only real disappointment in this game is the ending. It leaves you on a cliffhanger, depressed. You lose a character that you actually start to like, and with that feeling, you want to kill Gabe Newell... However, you can't stay mad at him forever. Episode 2 is a masterpiece, and should be played by anyone fond of games.  And now, we wait for HL3 or episode 3... I think its time we count to three, gabe Newell... you'll give me a reason to play a game post-2013.\n",
      "\n",
      "13 -> Sunless sea features one of the most fascinating game-worlds ever created.  small snippets of text,simple but very effective visuals and gameplay, nice music and sounds - alltogether is a very pleasant and relaxing experience. relaxing but at the same time it keeps you at the edge of your seat.   its mysterious,beautiful,terrifying and fun. it requires pacience and imagination. it can be frustrating if you let it. i think its supposed to be a rogue-like but i recommend using the safe function.  the fact that Fallen London is your only safe port is a double bladed thing gameplay-wise. it makes exploration more difficult and somewhat tedious because well- you have to travel back to fallen london all the time - but it also creates a big feeling of danger on longer journeys and makes 'coming home to fallen london' a unique experience in any game.  it is inspired in lovecraft and other literature - and even if imho it sometimes feels forced and overly omnious its sure unique and very enjoyable.  oddly enough i did not like the fallen london online game so much.even with its witty writing i thought it was too grindy. maybe a fault that could be atributed to this game too - but minor.  minimalistic and deep at the same time  edit : my innitial enthusiasm about this game got damped because of the game being repetitive after a short while, combat is awkward and all in all some elements just dont fit well together. the fact its a permadeath game makes things worth - even if i really love the legacy system. the idea is good but in reality it doesnt work for me. its sad because the writing and imagination is so awesome- for me its sad that its hidden behind frustrating gameplay.  i still recommend it for the positive aspects\n",
      "\n",
      "14 -> I enjoyed this game but it is way too short. For a game of this length I would expect to pay significantly less.\n",
      "\n"
     ]
    }
   ],
   "source": [
    "random.seed(6)\n",
    "random_idx_list = [random.randint(1,len(df.review_text)) for i in range(15)] \n",
    "random_rev_text = [df.loc[random_idx_list].review_text.head(15).iloc[i] for i in range(15)]\n",
    "for i, rev in zip(range(15), random_rev_text):\n",
    "  print(f'{i} -> {rev}\\n')"
   ]
  },
  {
   "cell_type": "markdown",
   "metadata": {
    "id": "_8X55PgxrNmM"
   },
   "source": [
    "Vemos que steam sensura malas palabras con corazones como en la (8), y tambien observamos que \"Early Access Review\" es una frase que se repite bastante. Por ahora lo de los corazones lo vamos a dejar asi pero veamos que porcentaje de reviews tenemos con la frase \"Early Access Review\"."
   ]
  },
  {
   "cell_type": "code",
   "execution_count": 15,
   "metadata": {
    "colab": {
     "base_uri": "https://localhost:8080/"
    },
    "executionInfo": {
     "elapsed": 399,
     "status": "ok",
     "timestamp": 1661009315487,
     "user": {
      "displayName": "Francisco Lopez Ballent",
      "userId": "04366113776935231164"
     },
     "user_tz": 180
    },
    "id": "EELkwcvqr7j_",
    "outputId": "9d66de5d-1516-43eb-8e30-017f25c0e529"
   },
   "outputs": [
    {
     "data": {
      "text/plain": [
       "17.44"
      ]
     },
     "execution_count": 15,
     "metadata": {},
     "output_type": "execute_result"
    }
   ],
   "source": [
    "round(df[df['review_text'].str.contains(\"Early Access Review\")].review_text.count()/df.shape[0]*100, 2)"
   ]
  },
  {
   "cell_type": "markdown",
   "metadata": {
    "id": "wBgOkzBWsln-"
   },
   "source": [
    "Veamos si esta frase tiene una tendencia a ser calificada como positiva o negativa."
   ]
  },
  {
   "cell_type": "code",
   "execution_count": 16,
   "metadata": {
    "colab": {
     "base_uri": "https://localhost:8080/"
    },
    "executionInfo": {
     "elapsed": 691,
     "status": "ok",
     "timestamp": 1661009319063,
     "user": {
      "displayName": "Francisco Lopez Ballent",
      "userId": "04366113776935231164"
     },
     "user_tz": 180
    },
    "id": "H0YwqDV4s232",
    "outputId": "cbbb822f-698d-4f2f-ee55-fe0099ed2c6b"
   },
   "outputs": [],
   "source": [
    "df_ear = df[df['review_text'].str.contains(\"Early Access Review\")]\n",
    "df_ear\n",
    "perc_pos = df.loc[df['review_score'] == 1].review_score.count()/df_ear.shape[0]*100\n",
    "perc_neg = df.loc[df['review_score'] == -1].review_score.count()/df_ear.shape[0]*100\n",
    "#print(f'% Positivas -> {round(perc_pos, 2)}\\n% Negativas -> {round(perc_neg, 2)}')"
   ]
  },
  {
   "cell_type": "markdown",
   "metadata": {
    "id": "f0J21s4JuylV"
   },
   "source": [
    "No se observa una tendencia a que las reviews con \"Early Access Review\" sean evaluadas como positivas o negativas. Por lo tanto no nos aportan informacion y podemos eliminarlas."
   ]
  },
  {
   "cell_type": "code",
   "execution_count": 17,
   "metadata": {
    "executionInfo": {
     "elapsed": 312,
     "status": "ok",
     "timestamp": 1661009321496,
     "user": {
      "displayName": "Francisco Lopez Ballent",
      "userId": "04366113776935231164"
     },
     "user_tz": 180
    },
    "id": "6xAKx_nHvdnm"
   },
   "outputs": [],
   "source": [
    "df = df.drop(df[df['review_text'].str.contains(\"Early Access Review\")].index)"
   ]
  },
  {
   "cell_type": "markdown",
   "metadata": {
    "id": "3qMoyBlrvx7_"
   },
   "source": [
    "Hagamos ahora una limpieza de:\n",
    "*   **Stopwords**: Palabras usadas comunmente en cualquier idioma, por ejemplo en ingles \"i\", \"who\", \"it\", etc.  \n",
    "*   **Hyperlinks**: Eliminamos todos los links como 'https://youtube.com...' que no aportan al objetivo <br>\n",
    "\n",
    "\n"
   ]
  },
  {
   "cell_type": "markdown",
   "metadata": {
    "id": "FZhYwcGkxSdW"
   },
   "source": [
    "A su vez realizamos un Stemming de las palabras. "
   ]
  },
  {
   "cell_type": "code",
   "execution_count": 18,
   "metadata": {
    "executionInfo": {
     "elapsed": 269,
     "status": "ok",
     "timestamp": 1661009323973,
     "user": {
      "displayName": "Francisco Lopez Ballent",
      "userId": "04366113776935231164"
     },
     "user_tz": 180
    },
    "id": "7mLV0EF4xqhB"
   },
   "outputs": [],
   "source": [
    "stemmer = SnowballStemmer('english')\n",
    "text_cleaning_re = \"https?:\\S+|http?:\\S|[^A-Za-z0-9]+\""
   ]
  },
  {
   "cell_type": "code",
   "execution_count": 19,
   "metadata": {
    "executionInfo": {
     "elapsed": 261,
     "status": "ok",
     "timestamp": 1661009326063,
     "user": {
      "displayName": "Francisco Lopez Ballent",
      "userId": "04366113776935231164"
     },
     "user_tz": 180
    },
    "id": "p9mBRsXXyPsb"
   },
   "outputs": [],
   "source": [
    "def preprocess(text):\n",
    "  text = re.sub(text_cleaning_re, ' ', str(text).lower()).strip()\n",
    "  tokens = []\n",
    "  for token in text.split():\n",
    "    if token not in ENGLISH_STOP_WORDS:\n",
    "      tokens.append(stemmer.stem(token))\n",
    "  return \" \".join(tokens)"
   ]
  },
  {
   "cell_type": "code",
   "execution_count": 27,
   "metadata": {
    "executionInfo": {
     "elapsed": 86780,
     "status": "ok",
     "timestamp": 1661009415219,
     "user": {
      "displayName": "Francisco Lopez Ballent",
      "userId": "04366113776935231164"
     },
     "user_tz": 180
    },
    "id": "m9L_VLQ2yqlP"
   },
   "outputs": [
    {
     "ename": "KeyboardInterrupt",
     "evalue": "",
     "output_type": "error",
     "traceback": [
      "\u001b[0;31m---------------------------------------------------------------------------\u001b[0m",
      "\u001b[0;31mKeyboardInterrupt\u001b[0m                         Traceback (most recent call last)",
      "\u001b[1;32mc:\\projects\\data_science\\ds_team\\ProyectosDS\\file.ipynb Cell 48\u001b[0m in \u001b[0;36m<cell line: 3>\u001b[0;34m()\u001b[0m\n\u001b[1;32m      <a href='vscode-notebook-cell:/c%3A/projects/data_science/ds_team/ProyectosDS/file.ipynb#X66sZmlsZQ%3D%3D?line=0'>1</a>\u001b[0m pddf \u001b[39m=\u001b[39m df\u001b[39m.\u001b[39mto_pandas()\n\u001b[1;32m      <a href='vscode-notebook-cell:/c%3A/projects/data_science/ds_team/ProyectosDS/file.ipynb#X66sZmlsZQ%3D%3D?line=1'>2</a>\u001b[0m pddf\n\u001b[0;32m----> <a href='vscode-notebook-cell:/c%3A/projects/data_science/ds_team/ProyectosDS/file.ipynb#X66sZmlsZQ%3D%3D?line=2'>3</a>\u001b[0m df\u001b[39m.\u001b[39mreview_text \u001b[39m=\u001b[39m pddf\u001b[39m.\u001b[39;49mreview_text\u001b[39m.\u001b[39;49mapply(\u001b[39mlambda\u001b[39;49;00m x: preprocess(x))\n",
      "File \u001b[0;32m~/miniconda3/lib/python3.9/site-packages/pandas/core/series.py:4433\u001b[0m, in \u001b[0;36mSeries.apply\u001b[0;34m(self, func, convert_dtype, args, **kwargs)\u001b[0m\n\u001b[1;32m   4323\u001b[0m \u001b[39mdef\u001b[39;00m \u001b[39mapply\u001b[39m(\n\u001b[1;32m   4324\u001b[0m     \u001b[39mself\u001b[39m,\n\u001b[1;32m   4325\u001b[0m     func: AggFuncType,\n\u001b[0;32m   (...)\u001b[0m\n\u001b[1;32m   4328\u001b[0m     \u001b[39m*\u001b[39m\u001b[39m*\u001b[39mkwargs,\n\u001b[1;32m   4329\u001b[0m ) \u001b[39m-\u001b[39m\u001b[39m>\u001b[39m DataFrame \u001b[39m|\u001b[39m Series:\n\u001b[1;32m   4330\u001b[0m     \u001b[39m\"\"\"\u001b[39;00m\n\u001b[1;32m   4331\u001b[0m \u001b[39m    Invoke function on values of Series.\u001b[39;00m\n\u001b[1;32m   4332\u001b[0m \n\u001b[0;32m   (...)\u001b[0m\n\u001b[1;32m   4431\u001b[0m \u001b[39m    dtype: float64\u001b[39;00m\n\u001b[1;32m   4432\u001b[0m \u001b[39m    \"\"\"\u001b[39;00m\n\u001b[0;32m-> 4433\u001b[0m     \u001b[39mreturn\u001b[39;00m SeriesApply(\u001b[39mself\u001b[39;49m, func, convert_dtype, args, kwargs)\u001b[39m.\u001b[39;49mapply()\n",
      "File \u001b[0;32m~/miniconda3/lib/python3.9/site-packages/pandas/core/apply.py:1088\u001b[0m, in \u001b[0;36mSeriesApply.apply\u001b[0;34m(self)\u001b[0m\n\u001b[1;32m   1084\u001b[0m \u001b[39mif\u001b[39;00m \u001b[39misinstance\u001b[39m(\u001b[39mself\u001b[39m\u001b[39m.\u001b[39mf, \u001b[39mstr\u001b[39m):\n\u001b[1;32m   1085\u001b[0m     \u001b[39m# if we are a string, try to dispatch\u001b[39;00m\n\u001b[1;32m   1086\u001b[0m     \u001b[39mreturn\u001b[39;00m \u001b[39mself\u001b[39m\u001b[39m.\u001b[39mapply_str()\n\u001b[0;32m-> 1088\u001b[0m \u001b[39mreturn\u001b[39;00m \u001b[39mself\u001b[39;49m\u001b[39m.\u001b[39;49mapply_standard()\n",
      "File \u001b[0;32m~/miniconda3/lib/python3.9/site-packages/pandas/core/apply.py:1143\u001b[0m, in \u001b[0;36mSeriesApply.apply_standard\u001b[0;34m(self)\u001b[0m\n\u001b[1;32m   1137\u001b[0m         values \u001b[39m=\u001b[39m obj\u001b[39m.\u001b[39mastype(\u001b[39mobject\u001b[39m)\u001b[39m.\u001b[39m_values\n\u001b[1;32m   1138\u001b[0m         \u001b[39m# error: Argument 2 to \"map_infer\" has incompatible type\u001b[39;00m\n\u001b[1;32m   1139\u001b[0m         \u001b[39m# \"Union[Callable[..., Any], str, List[Union[Callable[..., Any], str]],\u001b[39;00m\n\u001b[1;32m   1140\u001b[0m         \u001b[39m# Dict[Hashable, Union[Union[Callable[..., Any], str],\u001b[39;00m\n\u001b[1;32m   1141\u001b[0m         \u001b[39m# List[Union[Callable[..., Any], str]]]]]\"; expected\u001b[39;00m\n\u001b[1;32m   1142\u001b[0m         \u001b[39m# \"Callable[[Any], Any]\"\u001b[39;00m\n\u001b[0;32m-> 1143\u001b[0m         mapped \u001b[39m=\u001b[39m lib\u001b[39m.\u001b[39;49mmap_infer(\n\u001b[1;32m   1144\u001b[0m             values,\n\u001b[1;32m   1145\u001b[0m             f,  \u001b[39m# type: ignore[arg-type]\u001b[39;49;00m\n\u001b[1;32m   1146\u001b[0m             convert\u001b[39m=\u001b[39;49m\u001b[39mself\u001b[39;49m\u001b[39m.\u001b[39;49mconvert_dtype,\n\u001b[1;32m   1147\u001b[0m         )\n\u001b[1;32m   1149\u001b[0m \u001b[39mif\u001b[39;00m \u001b[39mlen\u001b[39m(mapped) \u001b[39mand\u001b[39;00m \u001b[39misinstance\u001b[39m(mapped[\u001b[39m0\u001b[39m], ABCSeries):\n\u001b[1;32m   1150\u001b[0m     \u001b[39m# GH#43986 Need to do list(mapped) in order to get treated as nested\u001b[39;00m\n\u001b[1;32m   1151\u001b[0m     \u001b[39m#  See also GH#25959 regarding EA support\u001b[39;00m\n\u001b[1;32m   1152\u001b[0m     \u001b[39mreturn\u001b[39;00m obj\u001b[39m.\u001b[39m_constructor_expanddim(\u001b[39mlist\u001b[39m(mapped), index\u001b[39m=\u001b[39mobj\u001b[39m.\u001b[39mindex)\n",
      "File \u001b[0;32m~/miniconda3/lib/python3.9/site-packages/pandas/_libs/lib.pyx:2870\u001b[0m, in \u001b[0;36mpandas._libs.lib.map_infer\u001b[0;34m()\u001b[0m\n",
      "\u001b[1;32mc:\\projects\\data_science\\ds_team\\ProyectosDS\\file.ipynb Cell 48\u001b[0m in \u001b[0;36m<lambda>\u001b[0;34m(x)\u001b[0m\n\u001b[1;32m      <a href='vscode-notebook-cell:/c%3A/projects/data_science/ds_team/ProyectosDS/file.ipynb#X66sZmlsZQ%3D%3D?line=0'>1</a>\u001b[0m pddf \u001b[39m=\u001b[39m df\u001b[39m.\u001b[39mto_pandas()\n\u001b[1;32m      <a href='vscode-notebook-cell:/c%3A/projects/data_science/ds_team/ProyectosDS/file.ipynb#X66sZmlsZQ%3D%3D?line=1'>2</a>\u001b[0m pddf\n\u001b[0;32m----> <a href='vscode-notebook-cell:/c%3A/projects/data_science/ds_team/ProyectosDS/file.ipynb#X66sZmlsZQ%3D%3D?line=2'>3</a>\u001b[0m df\u001b[39m.\u001b[39mreview_text \u001b[39m=\u001b[39m pddf\u001b[39m.\u001b[39mreview_text\u001b[39m.\u001b[39mapply(\u001b[39mlambda\u001b[39;00m x: preprocess(x))\n",
      "\u001b[1;32mc:\\projects\\data_science\\ds_team\\ProyectosDS\\file.ipynb Cell 48\u001b[0m in \u001b[0;36mpreprocess\u001b[0;34m(text)\u001b[0m\n\u001b[1;32m      <a href='vscode-notebook-cell:/c%3A/projects/data_science/ds_team/ProyectosDS/file.ipynb#X66sZmlsZQ%3D%3D?line=3'>4</a>\u001b[0m \u001b[39mfor\u001b[39;00m token \u001b[39min\u001b[39;00m text\u001b[39m.\u001b[39msplit():\n\u001b[1;32m      <a href='vscode-notebook-cell:/c%3A/projects/data_science/ds_team/ProyectosDS/file.ipynb#X66sZmlsZQ%3D%3D?line=4'>5</a>\u001b[0m   \u001b[39mif\u001b[39;00m token \u001b[39mnot\u001b[39;00m \u001b[39min\u001b[39;00m ENGLISH_STOP_WORDS:\n\u001b[0;32m----> <a href='vscode-notebook-cell:/c%3A/projects/data_science/ds_team/ProyectosDS/file.ipynb#X66sZmlsZQ%3D%3D?line=5'>6</a>\u001b[0m     tokens\u001b[39m.\u001b[39mappend(stemmer\u001b[39m.\u001b[39;49mstem(token))\n\u001b[1;32m      <a href='vscode-notebook-cell:/c%3A/projects/data_science/ds_team/ProyectosDS/file.ipynb#X66sZmlsZQ%3D%3D?line=6'>7</a>\u001b[0m \u001b[39mreturn\u001b[39;00m \u001b[39m\"\u001b[39m\u001b[39m \u001b[39m\u001b[39m\"\u001b[39m\u001b[39m.\u001b[39mjoin(tokens)\n",
      "File \u001b[0;32m~/miniconda3/lib/python3.9/site-packages/nltk/stem/snowball.py:1462\u001b[0m, in \u001b[0;36mEnglishStemmer.stem\u001b[0;34m(self, word)\u001b[0m\n\u001b[1;32m   1459\u001b[0m     r1, r2 \u001b[39m=\u001b[39m \u001b[39mself\u001b[39m\u001b[39m.\u001b[39m_r1r2_standard(word, \u001b[39mself\u001b[39m\u001b[39m.\u001b[39m__vowels)\n\u001b[1;32m   1461\u001b[0m \u001b[39m# STEP 0\u001b[39;00m\n\u001b[0;32m-> 1462\u001b[0m \u001b[39mfor\u001b[39;00m suffix \u001b[39min\u001b[39;00m \u001b[39mself\u001b[39m\u001b[39m.\u001b[39m__step0_suffixes:\n\u001b[1;32m   1463\u001b[0m     \u001b[39mif\u001b[39;00m word\u001b[39m.\u001b[39mendswith(suffix):\n\u001b[1;32m   1464\u001b[0m         word \u001b[39m=\u001b[39m word[: \u001b[39m-\u001b[39m\u001b[39mlen\u001b[39m(suffix)]\n",
      "\u001b[0;31mKeyboardInterrupt\u001b[0m: "
     ]
    }
   ],
   "source": [
    "df.review_text = df.review_text.to_pandas().apply(lambda x: preprocess(x))"
   ]
  },
  {
   "cell_type": "markdown",
   "metadata": {
    "id": "q6w3IJ2aS97X"
   },
   "source": [
    "Analizamos cuales son las palabras mas usadas en las reviews "
   ]
  },
  {
   "cell_type": "code",
   "execution_count": null,
   "metadata": {
    "executionInfo": {
     "elapsed": 16,
     "status": "ok",
     "timestamp": 1661009415222,
     "user": {
      "displayName": "Francisco Lopez Ballent",
      "userId": "04366113776935231164"
     },
     "user_tz": 180
    },
    "id": "cZubqx471jhV"
   },
   "outputs": [],
   "source": [
    "def wcloud(w_input, tag=''):\n",
    "  reviews = \" \".join(w_input)\n",
    "  word_cloud = WordCloud(max_words = 2000, background_color='black', width=800, height=400).generate(reviews)\n",
    "  plt.rcParams[\"figure.figsize\"] = (12, 8)\n",
    "  plt.imshow(word_cloud, interpolation='bilinear')\n",
    "  plt.axis('off')\n",
    "  plt.title(f'Palabras mas usadas en las Reviews {tag}',fontweight='bold')\n",
    "  return"
   ]
  },
  {
   "cell_type": "code",
   "execution_count": null,
   "metadata": {
    "colab": {
     "base_uri": "https://localhost:8080/",
     "height": 383
    },
    "executionInfo": {
     "elapsed": 21068,
     "status": "ok",
     "timestamp": 1661009441744,
     "user": {
      "displayName": "Francisco Lopez Ballent",
      "userId": "04366113776935231164"
     },
     "user_tz": 180
    },
    "id": "w2u2g0CWJ-PP",
    "outputId": "59f1c9dd-21b6-49fd-b156-3b9ef62d868c"
   },
   "outputs": [],
   "source": [
    "wcloud_pos = wcloud(df[df.review_score == 1].review_text, 'positivas')"
   ]
  },
  {
   "cell_type": "code",
   "execution_count": null,
   "metadata": {
    "colab": {
     "base_uri": "https://localhost:8080/",
     "height": 383
    },
    "executionInfo": {
     "elapsed": 33507,
     "status": "ok",
     "timestamp": 1661009492516,
     "user": {
      "displayName": "Francisco Lopez Ballent",
      "userId": "04366113776935231164"
     },
     "user_tz": 180
    },
    "id": "sKDMKOnh0E0y",
    "outputId": "73d97d14-d0e4-481c-c7cc-2d75fa4a97dc"
   },
   "outputs": [],
   "source": [
    "wcloud_neg = wcloud(df[df.review_score == -1].review_text, 'negativas')"
   ]
  },
  {
   "cell_type": "markdown",
   "metadata": {
    "id": "jkOqWmI4l2qZ"
   },
   "source": [
    "**Tokenizacion**<br>\n",
    "Armamos un nuevo df donde transformamos a las reviews en vectores numericos para mejorar el analisis. Este df tiene como columnas todas las palabras que se utilizan en las reviews y como filas las reviews con la cantidad de veces que aparece cada palabra en la review"
   ]
  },
  {
   "cell_type": "code",
   "execution_count": null,
   "metadata": {
    "colab": {
     "base_uri": "https://localhost:8080/",
     "height": 317
    },
    "executionInfo": {
     "elapsed": 36503,
     "status": "ok",
     "timestamp": 1660931764315,
     "user": {
      "displayName": "Francisco Lopez Ballent",
      "userId": "04366113776935231164"
     },
     "user_tz": 180
    },
    "id": "XSNZbVJQcYsO",
    "outputId": "9de0473e-fdb7-4825-9134-6c47c4841d39"
   },
   "outputs": [],
   "source": [
    "#Cuando tengamos mas RAM esto hay que correrlo sin max_features\n",
    "pattern = '[a-zA-z]+'\n",
    "vect = CountVectorizer(token_pattern=pattern, ngram_range=(1, 2), max_features=1000)\n",
    "vect.fit(df.review_text)\n",
    "tokenized_features = vect.transform(df.review_text)\n",
    "features_vect = pd.DataFrame(data=tokenized_features.toarray(), columns=vect.get_feature_names_out())\n",
    "features_vect.head()"
   ]
  },
  {
   "cell_type": "markdown",
   "metadata": {
    "id": "PlGC92YGRifm"
   },
   "source": [
    "Agregamos columnas del dataset original que nos van a ser utiles para el analisis"
   ]
  },
  {
   "cell_type": "code",
   "execution_count": null,
   "metadata": {
    "id": "xn_8act7Rd5t"
   },
   "outputs": [],
   "source": [
    "features_vect = features_vect.join(pd.DataFrame({'_score': df.review_score, \n",
    "                                                 '_votes': df.review_votes, \n",
    "                                                 '_genre': df.genres, \n",
    "                                                 '_price': df.price,\n",
    "                                                 '_word_count': df.review_text.str.count(pattern),\n",
    "                                                 '_avg_word_length': df.review_text.str.count(r\"\\S\")/df.review_text.str.count(pattern)}, \n",
    "                                                index=features_vect.index))"
   ]
  },
  {
   "cell_type": "markdown",
   "metadata": {
    "id": "rYepb97750j_"
   },
   "source": [
    "**Word emdedding**<br>\n",
    "Analisis de las palabras en su contexto"
   ]
  },
  {
   "cell_type": "markdown",
   "metadata": {
    "id": "CQpiDCaf0R0d"
   },
   "source": [
    "NO FUNCIONA. SE NECESITA MAS RAM PARA CORRERLO"
   ]
  },
  {
   "cell_type": "code",
   "execution_count": null,
   "metadata": {
    "executionInfo": {
     "elapsed": 273,
     "status": "ok",
     "timestamp": 1661009591019,
     "user": {
      "displayName": "Francisco Lopez Ballent",
      "userId": "04366113776935231164"
     },
     "user_tz": 180
    },
    "id": "JT5ylLBd6ILu"
   },
   "outputs": [],
   "source": [
    "#reviews = \" \".join(df.review_text)"
   ]
  },
  {
   "cell_type": "code",
   "execution_count": null,
   "metadata": {
    "executionInfo": {
     "elapsed": 288,
     "status": "ok",
     "timestamp": 1661009592544,
     "user": {
      "displayName": "Francisco Lopez Ballent",
      "userId": "04366113776935231164"
     },
     "user_tz": 180
    },
    "id": "uQt3az0P5-e3"
   },
   "outputs": [],
   "source": [
    "#nlp = spacy.load('en_core_web_sm')\n",
    "#doc = nlp(reviews)"
   ]
  },
  {
   "cell_type": "code",
   "execution_count": null,
   "metadata": {
    "executionInfo": {
     "elapsed": 3,
     "status": "ok",
     "timestamp": 1661009595332,
     "user": {
      "displayName": "Francisco Lopez Ballent",
      "userId": "04366113776935231164"
     },
     "user_tz": 180
    },
    "id": "I5hfCilg7r12"
   },
   "outputs": [],
   "source": [
    "#tokens = reviews.split()"
   ]
  },
  {
   "cell_type": "code",
   "execution_count": null,
   "metadata": {
    "executionInfo": {
     "elapsed": 4,
     "status": "ok",
     "timestamp": 1661009597908,
     "user": {
      "displayName": "Francisco Lopez Ballent",
      "userId": "04366113776935231164"
     },
     "user_tz": 180
    },
    "id": "bA_Jv7Iv9UaN"
   },
   "outputs": [],
   "source": [
    "#def vec(s):\n",
    "#    return nlp(s).vector"
   ]
  },
  {
   "cell_type": "code",
   "execution_count": null,
   "metadata": {
    "executionInfo": {
     "elapsed": 5,
     "status": "ok",
     "timestamp": 1661009599561,
     "user": {
      "displayName": "Francisco Lopez Ballent",
      "userId": "04366113776935231164"
     },
     "user_tz": 180
    },
    "id": "5xrcTNiG9D91"
   },
   "outputs": [],
   "source": [
    "#from numpy import dot\n",
    "#from numpy.linalg import norm\n",
    "\n",
    "#def cosine(v1, v2):\n",
    "#    if norm(v1) > 0 and norm(v2) > 0:\n",
    "#        return dot(v1, v2) / (norm(v1) * norm(v2))\n",
    "#    else:\n",
    "#        return 0.0"
   ]
  },
  {
   "cell_type": "code",
   "execution_count": null,
   "metadata": {
    "executionInfo": {
     "elapsed": 311,
     "status": "ok",
     "timestamp": 1661009602096,
     "user": {
      "displayName": "Francisco Lopez Ballent",
      "userId": "04366113776935231164"
     },
     "user_tz": 180
    },
    "id": "on0FME969LWE"
   },
   "outputs": [],
   "source": [
    "#def spacy_closest(token_list, vec_to_check, n=10):\n",
    "#    return sorted(token_list,\n",
    "#                  key=lambda x: cosine(vec_to_check, vec(x)),\n",
    "#                  reverse=True)[:n]"
   ]
  },
  {
   "cell_type": "code",
   "execution_count": null,
   "metadata": {
    "executionInfo": {
     "elapsed": 4,
     "status": "ok",
     "timestamp": 1661009603495,
     "user": {
      "displayName": "Francisco Lopez Ballent",
      "userId": "04366113776935231164"
     },
     "user_tz": 180
    },
    "id": "Kjz4h3BL9OdF"
   },
   "outputs": [],
   "source": [
    "#spacy_closest(tokens, vec(\"like\"))"
   ]
  },
  {
   "cell_type": "markdown",
   "metadata": {
    "id": "6kMopK-N2X9J"
   },
   "source": [
    "## **Analisis exploratorio de los datos (EDA)**"
   ]
  },
  {
   "cell_type": "markdown",
   "metadata": {
    "id": "0xxhRkRydifR"
   },
   "source": [
    "###**Analisis de variables principales**\n",
    "\n",
    "En esta seccion vamos a analizar la variable dependiente (review_text) y la variable target (review_score)"
   ]
  },
  {
   "cell_type": "markdown",
   "metadata": {
    "id": "3sjjp0e45PJc"
   },
   "source": [
    "**review_text**<br>\n"
   ]
  },
  {
   "cell_type": "markdown",
   "metadata": {
    "id": "OFOs-DJkSjN0"
   },
   "source": [
    "**Distribucion de cantidad de palabras por review**\n"
   ]
  },
  {
   "cell_type": "code",
   "execution_count": null,
   "metadata": {
    "colab": {
     "base_uri": "https://localhost:8080/",
     "height": 555
    },
    "executionInfo": {
     "elapsed": 2957,
     "status": "ok",
     "timestamp": 1660931853329,
     "user": {
      "displayName": "Francisco Lopez Ballent",
      "userId": "04366113776935231164"
     },
     "user_tz": 180
    },
    "id": "CdKOZWfJSv4y",
    "outputId": "3b329ca2-02cc-4a0c-ef52-8aec7224ac54"
   },
   "outputs": [],
   "source": [
    "plt.figure(figsize=(20, 10))\n",
    "sns.distplot(a=features_vect[features_vect['_word_count'] < 200]['_word_count'], hist=False)\n",
    "plt.title('Distribucion de cantidad de palabras por review')"
   ]
  },
  {
   "cell_type": "markdown",
   "metadata": {
    "id": "btT_qi_9nNh6"
   },
   "source": [
    ">**Conclusión:** Podemos ver que principalmente tenemos comentarios de no mas de 50 palabras. Se puede observar una asimetria positiva dada por tener algunos comentarios con una cantidad de palabras considerable. "
   ]
  },
  {
   "cell_type": "markdown",
   "metadata": {
    "id": "q-g7Ve7me4yZ"
   },
   "source": [
    "**Distribucion de longitud promedio de palabras por review**"
   ]
  },
  {
   "cell_type": "code",
   "execution_count": null,
   "metadata": {
    "colab": {
     "base_uri": "https://localhost:8080/",
     "height": 560
    },
    "executionInfo": {
     "elapsed": 1635,
     "status": "ok",
     "timestamp": 1660931859082,
     "user": {
      "displayName": "Francisco Lopez Ballent",
      "userId": "04366113776935231164"
     },
     "user_tz": 180
    },
    "id": "uS4gMH5JTjuk",
    "outputId": "0fff4b86-22d0-4bfe-818d-57827a56eeeb"
   },
   "outputs": [],
   "source": [
    "plt.figure(figsize=(20, 10))\n",
    "sns.distplot(a=features_vect[features_vect['_avg_word_length'] < 20]['_avg_word_length'], hist=False)\n",
    "plt.title('Distribucion de longitud promedio de palabras por review')"
   ]
  },
  {
   "cell_type": "markdown",
   "metadata": {
    "id": "gu--YYJ-sfrW"
   },
   "source": [
    ">**Conclusión:** tenemos en este caso una distribucion bastante simetrica, alterada levemente por algunos valores muy altos. Se limitó el dominio a 20 para poder visualizar mejor la distribucion"
   ]
  },
  {
   "cell_type": "markdown",
   "metadata": {
    "id": "7dgycDYEfCFx"
   },
   "source": [
    "**Analicemos ahora cuales son las expresiones compuestas por dos palabras mas utilizadas**"
   ]
  },
  {
   "cell_type": "code",
   "execution_count": null,
   "metadata": {
    "colab": {
     "base_uri": "https://localhost:8080/",
     "height": 341
    },
    "executionInfo": {
     "elapsed": 32221,
     "status": "ok",
     "timestamp": 1660931924931,
     "user": {
      "displayName": "Francisco Lopez Ballent",
      "userId": "04366113776935231164"
     },
     "user_tz": 180
    },
    "id": "0zunda_yElCD",
    "outputId": "97151d96-f939-4831-a3a9-c5ef9a7a814d"
   },
   "outputs": [],
   "source": [
    "vec = CountVectorizer(ngram_range=(2, 2)).fit(df.review_text)\n",
    "bag_of_words = vec.transform(df.review_text)\n",
    "sum_words = bag_of_words.sum(axis=0) \n",
    "words_freq = [(word, sum_words[0, idx]) for word, idx in vec.vocabulary_.items()]\n",
    "words_freq = sorted(words_freq, key = lambda x: x[1], reverse=True)[:10]\n",
    "x,y=map(list,zip(*words_freq)) \n",
    "plt.figure(figsize=(20, 6))\n",
    "sns.barplot(x=y,y=x).set(title='Top expresiones mas usadas en las reviews')"
   ]
  },
  {
   "cell_type": "markdown",
   "metadata": {
    "id": "_LpuemMCfK7o"
   },
   "source": [
    ">Veamos ahora que pasa separando en reviews positivas y negativas"
   ]
  },
  {
   "cell_type": "markdown",
   "metadata": {
    "id": "vrqv5rOFfVk5"
   },
   "source": [
    ">**Reviews positivas**"
   ]
  },
  {
   "cell_type": "code",
   "execution_count": null,
   "metadata": {
    "colab": {
     "base_uri": "https://localhost:8080/",
     "height": 351
    },
    "executionInfo": {
     "elapsed": 15374,
     "status": "ok",
     "timestamp": 1660931961459,
     "user": {
      "displayName": "Francisco Lopez Ballent",
      "userId": "04366113776935231164"
     },
     "user_tz": 180
    },
    "id": "o5LiKCqCVvLs",
    "outputId": "036ed81c-9e9f-46a0-c0dd-760685f3f202"
   },
   "outputs": [],
   "source": [
    "vec = CountVectorizer(ngram_range=(2, 2), stop_words=ENGLISH_STOP_WORDS).fit(df[df['review_score'] == 1].review_text)\n",
    "bag_of_words = vec.transform(df[df['review_score'] == 1].review_text)\n",
    "sum_words = bag_of_words.sum(axis=0) \n",
    "words_freq = [(word, sum_words[0, idx]) \n",
    "              for word, idx in vec.vocabulary_.items()]\n",
    "words_freq = sorted(words_freq, key = lambda x: x[1], reverse=True)[:10]\n",
    "x,y=map(list,zip(*words_freq)) \n",
    "plt.figure(figsize=(20, 6))\n",
    "sns.barplot(x=y,y=x).set(title='Top expresiones mas usadas en las reviews POSITIVAS sacando stop words')"
   ]
  },
  {
   "cell_type": "markdown",
   "metadata": {
    "id": "fInb00IrsjgB"
   },
   "source": [
    ">**Conclusión:** Se observa un predominio de la expresion 10 10 que viene del uso en las reviews 10/10 que al hacer la limpieza del texto se elimina el slash"
   ]
  },
  {
   "cell_type": "markdown",
   "metadata": {
    "id": "cn3WCV3efdVB"
   },
   "source": [
    ">**Reviews negativas** <br>\n"
   ]
  },
  {
   "cell_type": "code",
   "execution_count": null,
   "metadata": {
    "colab": {
     "base_uri": "https://localhost:8080/",
     "height": 340
    },
    "executionInfo": {
     "elapsed": 23996,
     "status": "ok",
     "timestamp": 1660931995388,
     "user": {
      "displayName": "Francisco Lopez Ballent",
      "userId": "04366113776935231164"
     },
     "user_tz": 180
    },
    "id": "VpP90RGOV_GF",
    "outputId": "25c110c6-82ba-4a57-8937-3af7eb54dbe3"
   },
   "outputs": [],
   "source": [
    "vec = CountVectorizer(ngram_range=(3, 3), max_features=2000).fit(df[df['review_score'] == -1].review_text)\n",
    "bag_of_words = vec.transform(df[df['review_score'] == -1].review_text)\n",
    "sum_words = bag_of_words.sum(axis=0) \n",
    "words_freq = [(word, sum_words[0, idx]) for word, idx in vec.vocabulary_.items()]\n",
    "words_freq = sorted(words_freq, key = lambda x: x[1], reverse=True)[:10]\n",
    "x,y=map(list,zip(*words_freq)) \n",
    "plt.figure(figsize=(20, 6))\n",
    "sns.barplot(x=y,y=x).set(title='Top expresiones mas usadas en las reviews NEGATIVAS sacando stop words')"
   ]
  },
  {
   "cell_type": "markdown",
   "metadata": {
    "id": "h3jhvjdwprfd"
   },
   "source": [
    ">**Conclusión:** En este caso se decidio usar 3 palabras porque con 2 palabras, por ejemplo, el conjunto \"don buy game\" quedaba como \"buy game\" lo que da a entender una expresion positiva, lo que da a entender la importancia de la contextualización. Los 3 primeros valores pueden estar asociados a reviews en las que se repitió muchas veces esas palabras "
   ]
  },
  {
   "cell_type": "markdown",
   "metadata": {
    "id": "LDYPzcEGUX_L"
   },
   "source": [
    "\n",
    "\n",
    "> Dropeamos la review que tiene solo \"load screeen load screen...\" para ver como se modifican los resultados\n",
    "\n"
   ]
  },
  {
   "cell_type": "code",
   "execution_count": null,
   "metadata": {
    "id": "q6uVquC4RVZW"
   },
   "outputs": [],
   "source": [
    "df = df.drop(df[df['review_text'].str.contains(\"screen load screen load screen\")].index)"
   ]
  },
  {
   "cell_type": "code",
   "execution_count": null,
   "metadata": {
    "colab": {
     "base_uri": "https://localhost:8080/",
     "height": 343
    },
    "executionInfo": {
     "elapsed": 31675,
     "status": "ok",
     "timestamp": 1660932707312,
     "user": {
      "displayName": "Francisco Lopez Ballent",
      "userId": "04366113776935231164"
     },
     "user_tz": 180
    },
    "id": "6RCZiCmkStME",
    "outputId": "31501028-f419-4a34-a2ab-4ad160a249ab"
   },
   "outputs": [],
   "source": [
    "vec = CountVectorizer(ngram_range=(3, 3), max_features=2000).fit(df[df['review_score'] == -1].review_text)\n",
    "bag_of_words = vec.transform(df[df['review_score'] == -1].review_text)\n",
    "sum_words = bag_of_words.sum(axis=0) \n",
    "words_freq = [(word, sum_words[0, idx]) for word, idx in vec.vocabulary_.items()]\n",
    "words_freq = sorted(words_freq, key = lambda x: x[1], reverse=True)[:10]\n",
    "x,y=map(list,zip(*words_freq)) \n",
    "plt.figure(figsize=(20, 6))\n",
    "sns.barplot(x=y,y=x).set(title='Top expresiones mas usadas en las reviews NEGATIVAS sacando stop words')"
   ]
  },
  {
   "cell_type": "markdown",
   "metadata": {
    "id": "9JMFVGtUYDHk"
   },
   "source": [
    "**Veamos la relacion entre la cantidad de palabras usadas en la review y el score**"
   ]
  },
  {
   "cell_type": "code",
   "execution_count": null,
   "metadata": {
    "colab": {
     "base_uri": "https://localhost:8080/",
     "height": 630
    },
    "executionInfo": {
     "elapsed": 832,
     "status": "ok",
     "timestamp": 1660875215100,
     "user": {
      "displayName": "Francisco Lopez Ballent",
      "userId": "04366113776935231164"
     },
     "user_tz": 180
    },
    "id": "HO9oBKJoR1yN",
    "outputId": "adcd499f-f997-403f-e28f-0dc73d650aee"
   },
   "outputs": [],
   "source": [
    "avg_words_pos = features_vect[features_vect['_score'] == 1]['_word_count'].mean()\n",
    "avg_words_neg = features_vect[features_vect['_score'] == -1]['_word_count'].mean()\n",
    "plt.figure(figsize = (20, 10))\n",
    "sns.barplot(x=['Positivas', 'Negativas'], y = [avg_words_pos, avg_words_neg])\n",
    "plt.title('Promedio de palabras usadas en reviews positivas o negativas')"
   ]
  },
  {
   "cell_type": "markdown",
   "metadata": {
    "id": "wmgZ3OXWsl_F"
   },
   "source": [
    ">**Conclusión:** Se puede observar una clara diferencia en el promedio de cantidad de palabras utilizadas en Reviews Negativas comparandolo con las Positivas. Podriamos inferir que a la hora de escribir una review negativa la gente se explaya de manera contundente para hacer su descargo."
   ]
  },
  {
   "cell_type": "markdown",
   "metadata": {
    "id": "T3oYU2O1dv_K"
   },
   "source": [
    "###**Analisis de variables secundarias**"
   ]
  },
  {
   "cell_type": "markdown",
   "metadata": {
    "id": "n_g1p1kVVq16"
   },
   "source": [
    "**genre**<br>\n",
    "Veamos cuales son los 10 generos que mas se repiten"
   ]
  },
  {
   "cell_type": "code",
   "execution_count": null,
   "metadata": {
    "colab": {
     "base_uri": "https://localhost:8080/"
    },
    "executionInfo": {
     "elapsed": 13,
     "status": "ok",
     "timestamp": 1660875215101,
     "user": {
      "displayName": "Francisco Lopez Ballent",
      "userId": "04366113776935231164"
     },
     "user_tz": 180
    },
    "id": "fjc_CfO1XPEP",
    "outputId": "727d0d17-7136-42ed-8045-f34828e42032"
   },
   "outputs": [],
   "source": [
    "rank_genres = df.drop_duplicates(subset=['app_id']).genres.str.split(';', expand=True).stack().to_frame().reset_index(drop=True).value_counts()\n",
    "print(f'TOP 10 GENEREOS QUE MAS SE REPITEN EN EL DATASET\\n\\n{rank_genres[:10]}')"
   ]
  },
  {
   "cell_type": "markdown",
   "metadata": {
    "id": "3ur42g1rftbp"
   },
   "source": [
    "**publisher**<br>\n",
    "Cuales son las 10 compañias con mas juegos publicados en el dataset"
   ]
  },
  {
   "cell_type": "code",
   "execution_count": null,
   "metadata": {
    "colab": {
     "base_uri": "https://localhost:8080/"
    },
    "executionInfo": {
     "elapsed": 12,
     "status": "ok",
     "timestamp": 1660875215103,
     "user": {
      "displayName": "Francisco Lopez Ballent",
      "userId": "04366113776935231164"
     },
     "user_tz": 180
    },
    "id": "tIIwIFS1fsyK",
    "outputId": "e54b6631-1834-433f-fc61-953cb96386b5"
   },
   "outputs": [],
   "source": [
    "rank_publi = df.drop_duplicates(subset=['app_id']).publisher.str.split(';', expand=True).stack().to_frame().reset_index(drop=True).value_counts()\n",
    "print(f'TOP 10 COMPAÑIAS CON MAS PUBLICACIONES EN EL DATASET\\n\\n{rank_publi[:10]}')"
   ]
  },
  {
   "cell_type": "code",
   "execution_count": null,
   "metadata": {
    "colab": {
     "base_uri": "https://localhost:8080/",
     "height": 687
    },
    "executionInfo": {
     "elapsed": 1548,
     "status": "ok",
     "timestamp": 1660875217026,
     "user": {
      "displayName": "Francisco Lopez Ballent",
      "userId": "04366113776935231164"
     },
     "user_tz": 180
    },
    "id": "kxUXXMBBp4XK",
    "outputId": "243877cd-5dc3-453c-e12e-86a6f522abb6"
   },
   "outputs": [],
   "source": [
    "plt.figure(figsize=(20, 6))\n",
    "sns.countplot(df.drop_duplicates(subset=['app_id']).publisher, order = df.drop_duplicates(subset=['app_id']).publisher.value_counts().iloc[:20].index, orient='h')\n",
    "plt.title('20 compañias con mas publicaciones en el dataset')\n",
    "plt.xticks(rotation=90)"
   ]
  },
  {
   "cell_type": "markdown",
   "metadata": {
    "id": "WUmcpZBYrql2"
   },
   "source": [
    "**Conclusión:** Vemos que grandes compañias como Ubisoft, Strategy First o THQ Nordic son las que mas juegos publica. Lo que no quiere decir que eso sea bueno o mejor para la empresa. Cuando veamos el analisis de las reviews positivas y negativas por empresa veran a que nos referimos."
   ]
  },
  {
   "cell_type": "code",
   "execution_count": null,
   "metadata": {
    "colab": {
     "base_uri": "https://localhost:8080/"
    },
    "executionInfo": {
     "elapsed": 386,
     "status": "ok",
     "timestamp": 1660875215480,
     "user": {
      "displayName": "Francisco Lopez Ballent",
      "userId": "04366113776935231164"
     },
     "user_tz": 180
    },
    "id": "9eGTpXHT2FyO",
    "outputId": "afd62091-1092-4cfa-cc14-46678cbec30a"
   },
   "outputs": [],
   "source": [
    "rank_publi = df.drop_duplicates(subset=['app_id']).developer.str.split(';', expand=True).stack().to_frame().reset_index(drop=True).value_counts()\n",
    "print(f'TOP 10 COMPAÑIAS CON MAS JUEGOS DESARROLLADOS EN EL DATASET\\n\\n{rank_publi[:10]}')"
   ]
  },
  {
   "cell_type": "markdown",
   "metadata": {
    "id": "W_kQEhwFh4Vs"
   },
   "source": [
    "**price**<br>\n",
    "Analizamos como se distribuyen los precios de los juegos.  \n",
    "\n",
    "Nota: Tener en cuenta que el precio se encuentra en Libras Esterlinas (GBP)"
   ]
  },
  {
   "cell_type": "code",
   "execution_count": null,
   "metadata": {
    "colab": {
     "base_uri": "https://localhost:8080/"
    },
    "executionInfo": {
     "elapsed": 12,
     "status": "ok",
     "timestamp": 1660875217028,
     "user": {
      "displayName": "Francisco Lopez Ballent",
      "userId": "04366113776935231164"
     },
     "user_tz": 180
    },
    "id": "VnHaPgjViDBS",
    "outputId": "27285f1c-2244-40bb-be82-b61df6f1b120"
   },
   "outputs": [],
   "source": [
    "df.drop_duplicates(subset=['app_id']).price.describe().round(2)"
   ]
  },
  {
   "cell_type": "code",
   "execution_count": null,
   "metadata": {
    "colab": {
     "base_uri": "https://localhost:8080/",
     "height": 647
    },
    "executionInfo": {
     "elapsed": 702,
     "status": "ok",
     "timestamp": 1660875217721,
     "user": {
      "displayName": "Francisco Lopez Ballent",
      "userId": "04366113776935231164"
     },
     "user_tz": 180
    },
    "id": "hYvDLFv_hsRQ",
    "outputId": "8c639b9b-1a00-4fb1-d9a5-8ac8c6ce60d0"
   },
   "outputs": [],
   "source": [
    "plt.figure(figsize = (20, 10))\n",
    "sns.distplot(a=df.drop_duplicates(subset=['app_id']).price, hist=True)\n",
    "plt.title('Distribucion de precios')"
   ]
  },
  {
   "cell_type": "markdown",
   "metadata": {
    "id": "_QxZiZswuN1L"
   },
   "source": [
    "**Conclusión:** Observamos una grafica asimetrica positiva debido a unos pocos juegos con precios excesivamente altos en relacion a la mayor densidad de juegos que van desde ser gratuitos a los 15 o 20 GBP."
   ]
  },
  {
   "cell_type": "markdown",
   "metadata": {
    "id": "oTxKqeBGckHu"
   },
   "source": [
    "**Relacion entre el review_score del juego y publisher**"
   ]
  },
  {
   "cell_type": "markdown",
   "metadata": {
    "id": "Nj2JnA_BcnyR"
   },
   "source": [
    "Con esto buscamos ver la imagen que tienen los usuarios de la empresa publicante."
   ]
  },
  {
   "cell_type": "code",
   "execution_count": null,
   "metadata": {
    "colab": {
     "base_uri": "https://localhost:8080/",
     "height": 237
    },
    "executionInfo": {
     "elapsed": 25,
     "status": "ok",
     "timestamp": 1660875217725,
     "user": {
      "displayName": "Francisco Lopez Ballent",
      "userId": "04366113776935231164"
     },
     "user_tz": 180
    },
    "id": "H5inVPhOceug",
    "outputId": "9adb4f3c-f428-4f71-9e90-180f7d287ac3"
   },
   "outputs": [],
   "source": [
    "df_publi_pos = df[['publisher','review_score']][df.review_score==1].groupby(['publisher','review_score']).agg(score_count_pos=('review_score','count')).sort_values(by='score_count_pos',ascending=False)\n",
    "df_publi_neg = df[['publisher','review_score']][df.review_score==-1].groupby(['publisher','review_score']).agg(score_count_neg=('review_score','count')).sort_values(by='score_count_neg',ascending=False)\n",
    "df_publi_merge = df_publi_pos.merge(df_publi_neg,how='inner',on='publisher').head(20)\n",
    "df_publi_merge['pers_pos'] = round(df_publi_merge.score_count_pos/(df_publi_merge.score_count_pos + df_publi_merge.score_count_neg)*100,2)\n",
    "df_publi_merge['pers_neg'] = round(df_publi_merge.score_count_neg/(df_publi_merge.score_count_pos + df_publi_merge.score_count_neg)*100,2)\n",
    "df_publi_merge.head()"
   ]
  },
  {
   "cell_type": "code",
   "execution_count": null,
   "metadata": {
    "colab": {
     "base_uri": "https://localhost:8080/",
     "height": 542
    },
    "executionInfo": {
     "elapsed": 295,
     "status": "ok",
     "timestamp": 1660876330070,
     "user": {
      "displayName": "Francisco Lopez Ballent",
      "userId": "04366113776935231164"
     },
     "user_tz": 180
    },
    "id": "YPYmE6L_b6bi",
    "outputId": "edeb7e72-cfe6-4011-f81f-2dc4ec7b438d"
   },
   "outputs": [],
   "source": [
    "df = df_publi_merge\n",
    "\n",
    "fig = px.scatter(df, x='pers_pos', y='pers_neg', \n",
    "           color=df_publi_merge.index, title='Porcentaje de Reviews Score Positivas y Negativas por Empresa Publicante del Juego',\n",
    "           labels={'pers_neg':'Porcentaje de Reviews Negativas', 'pers_pos':'Porcentaje de Reviews Positivas','publisher':'Empresas' })\n",
    "fig.show()"
   ]
  },
  {
   "cell_type": "markdown",
   "metadata": {
    "id": "GmtmobU4ucuQ"
   },
   "source": [
    "**Conclusión:** Ahora, haciendo referencia a la conclusion obtenida cuando vimos la cantidad de juegos publicados por empresa, podemos ver claramente como la cantidad de juegos no hace a la calidad de los mismos. Ya que podemos ver como aproximadamente un 60% de los comentarios sobre los juegos de Ubisoft son negativos. Similar ocurre con la empresa Squere Enix, la cual tambien se encuentra entre las 5 empresas con mas juegos publicados, teniendo un 50/50 en relacion a los comentarios."
   ]
  }
 ],
 "metadata": {
  "kernelspec": {
   "display_name": "Python 3 (ipykernel)",
   "language": "python",
   "name": "python3"
  },
  "language_info": {
   "codemirror_mode": {
    "name": "ipython",
    "version": 3
   },
   "file_extension": ".py",
   "mimetype": "text/x-python",
   "name": "python",
   "nbconvert_exporter": "python",
   "pygments_lexer": "ipython3",
   "version": "3.9.2"
  },
  "orig_nbformat": 4
 },
 "nbformat": 4,
 "nbformat_minor": 2
}
